{
 "cells": [
  {
   "cell_type": "markdown",
   "metadata": {},
   "source": [
    "# Librerías"
   ]
  },
  {
   "cell_type": "code",
   "execution_count": 64,
   "metadata": {
    "ExecuteTime": {
     "end_time": "2022-05-04T03:21:52.863359Z",
     "start_time": "2022-05-04T03:21:52.855362Z"
    },
    "id": "2887ntzK4Gp7"
   },
   "outputs": [],
   "source": [
    "from ortools.sat.python import cp_model"
   ]
  },
  {
   "cell_type": "markdown",
   "metadata": {},
   "source": [
    "# Modelo CSP"
   ]
  },
  {
   "cell_type": "code",
   "execution_count": 65,
   "metadata": {
    "ExecuteTime": {
     "end_time": "2022-05-04T03:21:53.033499Z",
     "start_time": "2022-05-04T03:21:53.017497Z"
    },
    "id": "cjfOvNhE4Ipx"
   },
   "outputs": [],
   "source": [
    "#Crear un modelo CSP\n",
    "model = cp_model.CpModel()"
   ]
  },
  {
   "cell_type": "markdown",
   "metadata": {},
   "source": [
    "# Datos"
   ]
  },
  {
   "cell_type": "code",
   "execution_count": 66,
   "metadata": {
    "ExecuteTime": {
     "end_time": "2022-05-04T03:21:53.218979Z",
     "start_time": "2022-05-04T03:21:53.205978Z"
    },
    "id": "cTsg36TW2leR"
   },
   "outputs": [],
   "source": [
    "#Datos\n",
    "Stewards =  ['Tom','David','Jeremy','Ron','Joe','Bill','Fred','Bob','Mario','Ed']\n",
    "Hostesess = ['Carol','Janet','Tracy','Marilyn','Carolin','Katy','Ines','Jean','Heather','Juliet']\n",
    "n_stewards  = len(Stewards)\n",
    "n_hostesess = len(Hostesess)\n",
    "\n",
    "Crew = Stewards + Hostesess\n",
    "n_crew = len(Crew)\n",
    "  \n",
    "gender = [1 for _ in range(n_stewards)] + [0 for _ in range(n_hostesess)]\n",
    "\n",
    "n_flights = 10\n",
    "Aircrew = [4,5,5,6,7,4,5,6,6,7]\n",
    "\n",
    "min_hostesess = [1,1,1,2,3,1,1,1,2,3]\n",
    "min_stewards =  [1,1,1,2,3,1,1,1,2,3]\n",
    "\n",
    "french  = [Crew.index('Ines'), Crew.index('Bill'), Crew.index('Jean'), Crew.index('Juliet')]\n",
    "spanish = [Crew.index('Tom'), Crew.index('Jeremy'), Crew.index('Mario'), Crew.index('Katy'), Crew.index('Juliet')]\n",
    "german  = [Crew.index('Bill'), Crew.index('Fred'), Crew.index('Joe'), Crew.index('Mario'), Crew.index('Marilyn'), Crew.index('Ines'), Crew.index('Heather')]"
   ]
  },
  {
   "cell_type": "markdown",
   "metadata": {},
   "source": [
    "# Variables y Dominios"
   ]
  },
  {
   "cell_type": "code",
   "execution_count": 67,
   "metadata": {
    "ExecuteTime": {
     "end_time": "2022-05-04T03:21:53.373492Z",
     "start_time": "2022-05-04T03:21:53.358489Z"
    },
    "colab": {
     "base_uri": "https://localhost:8080/"
    },
    "id": "9ZdXz6Ny9Uqj",
    "outputId": "a368b21e-2ba9-46e3-9fbc-6d2ce0ab28bb"
   },
   "outputs": [
    {
     "name": "stdout",
     "output_type": "stream",
     "text": [
      "[Tom-0(0..1), Tom-1(0..1), Tom-2(0..1), Tom-3(0..1), Tom-4(0..1), Tom-5(0..1), Tom-6(0..1), Tom-7(0..1), Tom-8(0..1), Tom-9(0..1)]\n",
      "[David-0(0..1), David-1(0..1), David-2(0..1), David-3(0..1), David-4(0..1), David-5(0..1), David-6(0..1), David-7(0..1), David-8(0..1), David-9(0..1)]\n",
      "[Jeremy-0(0..1), Jeremy-1(0..1), Jeremy-2(0..1), Jeremy-3(0..1), Jeremy-4(0..1), Jeremy-5(0..1), Jeremy-6(0..1), Jeremy-7(0..1), Jeremy-8(0..1), Jeremy-9(0..1)]\n",
      "[Ron-0(0..1), Ron-1(0..1), Ron-2(0..1), Ron-3(0..1), Ron-4(0..1), Ron-5(0..1), Ron-6(0..1), Ron-7(0..1), Ron-8(0..1), Ron-9(0..1)]\n",
      "[Joe-0(0..1), Joe-1(0..1), Joe-2(0..1), Joe-3(0..1), Joe-4(0..1), Joe-5(0..1), Joe-6(0..1), Joe-7(0..1), Joe-8(0..1), Joe-9(0..1)]\n",
      "[Bill-0(0..1), Bill-1(0..1), Bill-2(0..1), Bill-3(0..1), Bill-4(0..1), Bill-5(0..1), Bill-6(0..1), Bill-7(0..1), Bill-8(0..1), Bill-9(0..1)]\n",
      "[Fred-0(0..1), Fred-1(0..1), Fred-2(0..1), Fred-3(0..1), Fred-4(0..1), Fred-5(0..1), Fred-6(0..1), Fred-7(0..1), Fred-8(0..1), Fred-9(0..1)]\n",
      "[Bob-0(0..1), Bob-1(0..1), Bob-2(0..1), Bob-3(0..1), Bob-4(0..1), Bob-5(0..1), Bob-6(0..1), Bob-7(0..1), Bob-8(0..1), Bob-9(0..1)]\n",
      "[Mario-0(0..1), Mario-1(0..1), Mario-2(0..1), Mario-3(0..1), Mario-4(0..1), Mario-5(0..1), Mario-6(0..1), Mario-7(0..1), Mario-8(0..1), Mario-9(0..1)]\n",
      "[Ed-0(0..1), Ed-1(0..1), Ed-2(0..1), Ed-3(0..1), Ed-4(0..1), Ed-5(0..1), Ed-6(0..1), Ed-7(0..1), Ed-8(0..1), Ed-9(0..1)]\n",
      "[Carol-0(0..1), Carol-1(0..1), Carol-2(0..1), Carol-3(0..1), Carol-4(0..1), Carol-5(0..1), Carol-6(0..1), Carol-7(0..1), Carol-8(0..1), Carol-9(0..1)]\n",
      "[Janet-0(0..1), Janet-1(0..1), Janet-2(0..1), Janet-3(0..1), Janet-4(0..1), Janet-5(0..1), Janet-6(0..1), Janet-7(0..1), Janet-8(0..1), Janet-9(0..1)]\n",
      "[Tracy-0(0..1), Tracy-1(0..1), Tracy-2(0..1), Tracy-3(0..1), Tracy-4(0..1), Tracy-5(0..1), Tracy-6(0..1), Tracy-7(0..1), Tracy-8(0..1), Tracy-9(0..1)]\n",
      "[Marilyn-0(0..1), Marilyn-1(0..1), Marilyn-2(0..1), Marilyn-3(0..1), Marilyn-4(0..1), Marilyn-5(0..1), Marilyn-6(0..1), Marilyn-7(0..1), Marilyn-8(0..1), Marilyn-9(0..1)]\n",
      "[Carolin-0(0..1), Carolin-1(0..1), Carolin-2(0..1), Carolin-3(0..1), Carolin-4(0..1), Carolin-5(0..1), Carolin-6(0..1), Carolin-7(0..1), Carolin-8(0..1), Carolin-9(0..1)]\n",
      "[Katy-0(0..1), Katy-1(0..1), Katy-2(0..1), Katy-3(0..1), Katy-4(0..1), Katy-5(0..1), Katy-6(0..1), Katy-7(0..1), Katy-8(0..1), Katy-9(0..1)]\n",
      "[Ines-0(0..1), Ines-1(0..1), Ines-2(0..1), Ines-3(0..1), Ines-4(0..1), Ines-5(0..1), Ines-6(0..1), Ines-7(0..1), Ines-8(0..1), Ines-9(0..1)]\n",
      "[Jean-0(0..1), Jean-1(0..1), Jean-2(0..1), Jean-3(0..1), Jean-4(0..1), Jean-5(0..1), Jean-6(0..1), Jean-7(0..1), Jean-8(0..1), Jean-9(0..1)]\n",
      "[Heather-0(0..1), Heather-1(0..1), Heather-2(0..1), Heather-3(0..1), Heather-4(0..1), Heather-5(0..1), Heather-6(0..1), Heather-7(0..1), Heather-8(0..1), Heather-9(0..1)]\n",
      "[Juliet-0(0..1), Juliet-1(0..1), Juliet-2(0..1), Juliet-3(0..1), Juliet-4(0..1), Juliet-5(0..1), Juliet-6(0..1), Juliet-7(0..1), Juliet-8(0..1), Juliet-9(0..1)]\n"
     ]
    }
   ],
   "source": [
    "#Variables y dominios: X:un conjunto de variables, D: un conjunto de dominios\n",
    "\n",
    "#G_reference = [[False for f in range(n_flights)] for c in range(n_crew)]\n",
    "G = [[model.NewBoolVar(f\"{Crew[c]}-{f}\") for f in range(n_flights)] for c in range(n_crew)]\n",
    "for c in G:\n",
    "    print(c)"
   ]
  },
  {
   "cell_type": "markdown",
   "metadata": {},
   "source": [
    "# Simple Version"
   ]
  },
  {
   "cell_type": "code",
   "execution_count": null,
   "metadata": {},
   "outputs": [],
   "source": [
    "#Restricciones: C:un conjunto de restricciones\n",
    "#for f in range(n_flights):\n",
    "#    #Crew Number\n",
    "#    model.Add(sum([G[i][f] for i in range(n_crew)]) == Aircrew[f])\n",
    "#    \n",
    "#    #Crew Min\n",
    "#    model.Add(sum([G[i][f] if(gender[i]==0) else 0 for i in range(n_crew)]) >= min_hostesess[f])\n",
    "#    model.Add(sum([G[i][f] if(gender[i]==1) else 0 for i in range(n_crew)]) >= min_stewards[f])\n",
    "#    \n",
    "#    #Languages\n",
    "#    model.Add(sum([G[i][f] if(i in french) else 0 for i in range(n_crew)]) >= 1)\n",
    "#    model.Add(sum([G[i][f] if(i in spanish) else 0 for i in range(n_crew)]) >= 1)\n",
    "#    model.Add(sum([G[i][f] if(i in german) else 0 for i in range(n_crew)]) >= 1)\n",
    "#    \n",
    "#    #Repetition\n",
    "#    if(f>=2):\n",
    "#        for c in range(n_crew):\n",
    "#            model.Add(  G[c][f]+G[c][f-1]+G[c][f-2] <= 1 )"
   ]
  },
  {
   "cell_type": "markdown",
   "metadata": {},
   "source": [
    "# Global Constraints and Reification Version"
   ]
  },
  {
   "cell_type": "code",
   "execution_count": 68,
   "metadata": {
    "ExecuteTime": {
     "end_time": "2022-05-04T03:21:53.791296Z",
     "start_time": "2022-05-04T03:21:53.749292Z"
    },
    "id": "oOMZRmoa_Hvf"
   },
   "outputs": [],
   "source": [
    "#Restricciones: C:un conjunto de restricciones\n",
    "\n",
    "for f in range(n_flights):\n",
    "    #Crew Number\n",
    "    model.Add(sum([G[i][f] for i in range(n_crew)]) == Aircrew[f])\n",
    "        \n",
    "    #Crew Min\n",
    "    model.Add(sum([G[i][f] if (gender[i] == 0) else 0 for i in range(n_crew)]) >= min_hostesess[f])\n",
    "    model.Add(sum([G[i][f] if (gender[i] == 1) else 0 for i in range(n_crew)]) >= min_stewards[f])\n",
    "\n",
    "    #Languages\n",
    "    model.AddAtLeastOne([G[i][f] if (i in french) else 0 for i in range(n_crew)])\n",
    "    model.AddAtLeastOne([G[i][f] if (i in spanish) else 0 for i in range(n_crew)])\n",
    "    model.AddAtLeastOne([G[i][f] if (i in german) else 0 for i in range(n_crew)])\n",
    "\n",
    "    #Repetition\n",
    "    if f < n_flights - 2: \n",
    "        for i in range(n_crew):\n",
    "            model.Add(  G[i][f+1]+G[i][f+2] == 0 ).OnlyEnforceIf(G[i][f])\n",
    "    if f > 2: \n",
    "        for i in range(n_crew):\n",
    "            model.Add(  G[i][f-1]+G[i][f-2] == 0 ).OnlyEnforceIf(G[i][f])"
   ]
  },
  {
   "cell_type": "markdown",
   "metadata": {},
   "source": [
    "# Solver"
   ]
  },
  {
   "cell_type": "code",
   "execution_count": 69,
   "metadata": {
    "ExecuteTime": {
     "end_time": "2022-05-04T03:21:54.238536Z",
     "start_time": "2022-05-04T03:21:54.173557Z"
    },
    "colab": {
     "base_uri": "https://localhost:8080/"
    },
    "id": "AibG1prF_cIa",
    "outputId": "ca9dfaec-5fb4-48b9-fe5e-59503b2715a4"
   },
   "outputs": [
    {
     "name": "stdout",
     "output_type": "stream",
     "text": [
      "\t\tF1\tF2\tF3\tF4\tF5\tF6\tF7\tF8\tF9\tF10\n",
      "Tom\t->\t0\t0\t1\t0\t0\t1\t0\t0\t1\t0\t\n",
      "David\t->\t0\t1\t0\t0\t1\t0\t0\t1\t0\t0\t\n",
      "Jeremy\t->\t1\t0\t0\t1\t0\t0\t1\t0\t0\t1\t\n",
      "Ron\t->\t1\t0\t0\t1\t0\t0\t1\t0\t0\t1\t\n",
      "Joe\t->\t0\t0\t1\t0\t0\t1\t0\t0\t1\t0\t\n",
      "Bill\t->\t1\t0\t0\t1\t0\t0\t1\t0\t0\t1\t\n",
      "Fred\t->\t0\t0\t1\t0\t0\t0\t1\t0\t0\t1\t\n",
      "Bob\t->\t0\t1\t0\t0\t1\t0\t0\t0\t1\t0\t\n",
      "Mario\t->\t0\t1\t0\t0\t1\t0\t0\t1\t0\t0\t\n",
      "Ed\t->\t0\t0\t0\t1\t0\t0\t0\t1\t0\t0\t\n",
      "\n",
      "Carol\t->\t0\t0\t0\t0\t1\t0\t0\t0\t0\t1\t\n",
      "Janet\t->\t0\t0\t0\t1\t0\t0\t1\t0\t0\t1\t\n",
      "Tracy\t->\t0\t1\t0\t0\t1\t0\t0\t1\t0\t0\t\n",
      "Marilyn\t->\t1\t0\t0\t1\t0\t0\t0\t1\t0\t0\t\n",
      "Carolin\t->\t0\t0\t0\t0\t1\t0\t0\t0\t1\t0\t\n",
      "Katy\t->\t0\t0\t0\t0\t0\t0\t0\t0\t0\t1\t\n",
      "Ines\t->\t0\t0\t1\t0\t0\t1\t0\t0\t1\t0\t\n",
      "Jean\t->\t0\t1\t0\t0\t1\t0\t0\t1\t0\t0\t\n",
      "Heather\t->\t0\t0\t1\t0\t0\t1\t0\t0\t1\t0\t\n",
      "Juliet\t->\t0\t0\t0\t0\t0\t0\t0\t0\t0\t0\t\n"
     ]
    }
   ],
   "source": [
    "#Crear un solver\n",
    "solver = cp_model.CpSolver() \n",
    "status = solver.Solve(model)\n",
    "\n",
    "if status == cp_model.OPTIMAL:\n",
    "    Header = [f'F{i+1}' for i in range(n_flights)]\n",
    "    print(\"\\t\\t\"+ \"\\t\".join(Header))\n",
    "\n",
    "    for j in range(n_crew):\n",
    "        if j == 10: print()\n",
    "        print(Crew[j],end='\\t->\\t')        \n",
    "        for i in range(n_flights):\n",
    "            print(solver.Value(G[j][i]),end='\\t')      \n",
    "        print() "
   ]
  },
  {
   "cell_type": "code",
   "execution_count": null,
   "metadata": {},
   "outputs": [],
   "source": []
  },
  {
   "cell_type": "code",
   "execution_count": null,
   "metadata": {},
   "outputs": [],
   "source": []
  }
 ],
 "metadata": {
  "colab": {
   "collapsed_sections": [],
   "name": "Topicos TP.ipynb",
   "provenance": []
  },
  "kernelspec": {
   "display_name": "Python 3 (ipykernel)",
   "language": "python",
   "name": "python3"
  },
  "language_info": {
   "codemirror_mode": {
    "name": "ipython",
    "version": 3
   },
   "file_extension": ".py",
   "mimetype": "text/x-python",
   "name": "python",
   "nbconvert_exporter": "python",
   "pygments_lexer": "ipython3",
   "version": "3.9.7"
  },
  "toc": {
   "base_numbering": 1,
   "nav_menu": {},
   "number_sections": true,
   "sideBar": true,
   "skip_h1_title": false,
   "title_cell": "Table of Contents",
   "title_sidebar": "Contents",
   "toc_cell": false,
   "toc_position": {},
   "toc_section_display": true,
   "toc_window_display": false
  },
  "varInspector": {
   "cols": {
    "lenName": 16,
    "lenType": 16,
    "lenVar": 40
   },
   "kernels_config": {
    "python": {
     "delete_cmd_postfix": "",
     "delete_cmd_prefix": "del ",
     "library": "var_list.py",
     "varRefreshCmd": "print(var_dic_list())"
    },
    "r": {
     "delete_cmd_postfix": ") ",
     "delete_cmd_prefix": "rm(",
     "library": "var_list.r",
     "varRefreshCmd": "cat(var_dic_list()) "
    }
   },
   "types_to_exclude": [
    "module",
    "function",
    "builtin_function_or_method",
    "instance",
    "_Feature"
   ],
   "window_display": false
  }
 },
 "nbformat": 4,
 "nbformat_minor": 1
}
